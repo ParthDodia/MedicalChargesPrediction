{
 "cells": [
  {
   "cell_type": "code",
   "execution_count": null,
   "metadata": {},
   "outputs": [],
   "source": [
    "!pip install pyspark"
   ]
  },
  {
   "cell_type": "code",
   "execution_count": 1,
   "metadata": {},
   "outputs": [],
   "source": [
    "#create spark session\n",
    "\n",
    "from pyspark.sql import SparkSession\n",
    "\n",
    "spark = SparkSession.builder.appName(\"spark\").getOrCreate()"
   ]
  },
  {
   "cell_type": "code",
   "execution_count": 2,
   "metadata": {
    "application/vnd.databricks.v1+cell": {
     "cellMetadata": {
      "byteLimit": 2048000,
      "rowLimit": 10000
     },
     "inputWidgets": {},
     "nuid": "6482be4c-f067-47c9-b0ac-35c938b94601",
     "showTitle": false,
     "title": ""
    }
   },
   "outputs": [
    {
     "name": "stdout",
     "output_type": "stream",
     "text": [
      "+---+------+------+--------+------+---------+-----------+\n",
      "|age|   sex|   bmi|children|smoker|   region|    charges|\n",
      "+---+------+------+--------+------+---------+-----------+\n",
      "| 19|female|  27.9|       0|   yes|southwest|  16884.924|\n",
      "| 18|  male| 33.77|       1|    no|southeast|  1725.5523|\n",
      "| 28|  male|  33.0|       3|    no|southeast|   4449.462|\n",
      "| 33|  male|22.705|       0|    no|northwest|21984.47061|\n",
      "| 32|  male| 28.88|       0|    no|northwest|  3866.8552|\n",
      "| 31|female| 25.74|       0|    no|southeast|  3756.6216|\n",
      "| 46|female| 33.44|       1|    no|southeast|  8240.5896|\n",
      "| 37|female| 27.74|       3|    no|northwest|  7281.5056|\n",
      "| 37|  male| 29.83|       2|    no|northeast|  6406.4107|\n",
      "| 60|female| 25.84|       0|    no|northwest|28923.13692|\n",
      "| 25|  male| 26.22|       0|    no|northeast|  2721.3208|\n",
      "| 62|female| 26.29|       0|   yes|southeast| 27808.7251|\n",
      "| 23|  male|  34.4|       0|    no|southwest|   1826.843|\n",
      "| 56|female| 39.82|       0|    no|southeast| 11090.7178|\n",
      "| 27|  male| 42.13|       0|   yes|southeast| 39611.7577|\n",
      "| 19|  male|  24.6|       1|    no|southwest|   1837.237|\n",
      "| 52|female| 30.78|       1|    no|northeast| 10797.3362|\n",
      "| 23|  male|23.845|       0|    no|northeast| 2395.17155|\n",
      "| 56|  male|  40.3|       0|    no|southwest|  10602.385|\n",
      "| 30|  male|  35.3|       0|   yes|southwest|  36837.467|\n",
      "+---+------+------+--------+------+---------+-----------+\n",
      "only showing top 20 rows\n",
      "\n"
     ]
    }
   ],
   "source": [
    "# Read the file\n",
    "\n",
    "# I have uploaded the csv file in same location as this notebook. You can also specify the path of this file\n",
    "file_location = \"medical_insurance.csv\"\n",
    "\n",
    "df= spark.read.csv(file_location,header=True,inferSchema=True)\n",
    "df.show()"
   ]
  },
  {
   "cell_type": "code",
   "execution_count": 3,
   "metadata": {
    "application/vnd.databricks.v1+cell": {
     "cellMetadata": {
      "byteLimit": 2048000,
      "rowLimit": 10000
     },
     "inputWidgets": {},
     "nuid": "b1c2fc64-895a-45bc-b992-5a01d8d6f763",
     "showTitle": false,
     "title": ""
    }
   },
   "outputs": [
    {
     "name": "stdout",
     "output_type": "stream",
     "text": [
      "+---+------+------+--------+------+---------+-----------+-----+--------+--------+\n",
      "|age|   sex|   bmi|children|smoker|   region|    charges|sex_n|smoker_n|region_n|\n",
      "+---+------+------+--------+------+---------+-----------+-----+--------+--------+\n",
      "| 19|female|  27.9|       0|   yes|southwest|  16884.924|  1.0|     1.0|     1.0|\n",
      "| 18|  male| 33.77|       1|    no|southeast|  1725.5523|  0.0|     0.0|     0.0|\n",
      "| 28|  male|  33.0|       3|    no|southeast|   4449.462|  0.0|     0.0|     0.0|\n",
      "| 33|  male|22.705|       0|    no|northwest|21984.47061|  0.0|     0.0|     2.0|\n",
      "| 32|  male| 28.88|       0|    no|northwest|  3866.8552|  0.0|     0.0|     2.0|\n",
      "| 31|female| 25.74|       0|    no|southeast|  3756.6216|  1.0|     0.0|     0.0|\n",
      "| 46|female| 33.44|       1|    no|southeast|  8240.5896|  1.0|     0.0|     0.0|\n",
      "| 37|female| 27.74|       3|    no|northwest|  7281.5056|  1.0|     0.0|     2.0|\n",
      "| 37|  male| 29.83|       2|    no|northeast|  6406.4107|  0.0|     0.0|     3.0|\n",
      "| 60|female| 25.84|       0|    no|northwest|28923.13692|  1.0|     0.0|     2.0|\n",
      "| 25|  male| 26.22|       0|    no|northeast|  2721.3208|  0.0|     0.0|     3.0|\n",
      "| 62|female| 26.29|       0|   yes|southeast| 27808.7251|  1.0|     1.0|     0.0|\n",
      "| 23|  male|  34.4|       0|    no|southwest|   1826.843|  0.0|     0.0|     1.0|\n",
      "| 56|female| 39.82|       0|    no|southeast| 11090.7178|  1.0|     0.0|     0.0|\n",
      "| 27|  male| 42.13|       0|   yes|southeast| 39611.7577|  0.0|     1.0|     0.0|\n",
      "| 19|  male|  24.6|       1|    no|southwest|   1837.237|  0.0|     0.0|     1.0|\n",
      "| 52|female| 30.78|       1|    no|northeast| 10797.3362|  1.0|     0.0|     3.0|\n",
      "| 23|  male|23.845|       0|    no|northeast| 2395.17155|  0.0|     0.0|     3.0|\n",
      "| 56|  male|  40.3|       0|    no|southwest|  10602.385|  0.0|     0.0|     1.0|\n",
      "| 30|  male|  35.3|       0|   yes|southwest|  36837.467|  0.0|     1.0|     1.0|\n",
      "+---+------+------+--------+------+---------+-----------+-----+--------+--------+\n",
      "only showing top 20 rows\n",
      "\n"
     ]
    }
   ],
   "source": [
    "# convert categorical in numerical features\n",
    "\n",
    "from pyspark.ml.feature import StringIndexer\n",
    "\n",
    "indexer = StringIndexer(inputCols=['sex','smoker','region'],outputCols=['sex_n','smoker_n','region_n'])\n",
    "df= indexer.fit(df).transform(df)\n",
    "df.show()"
   ]
  },
  {
   "cell_type": "code",
   "execution_count": 4,
   "metadata": {
    "application/vnd.databricks.v1+cell": {
     "cellMetadata": {
      "byteLimit": 2048000,
      "rowLimit": 10000
     },
     "inputWidgets": {},
     "nuid": "184f081b-7c65-4edc-9432-76b852c52b22",
     "showTitle": false,
     "title": ""
    }
   },
   "outputs": [
    {
     "name": "stdout",
     "output_type": "stream",
     "text": [
      "+-----------+---+------+--------+-----+--------+--------+\n",
      "|    charges|age|   bmi|children|sex_n|smoker_n|region_n|\n",
      "+-----------+---+------+--------+-----+--------+--------+\n",
      "|  16884.924| 19|  27.9|       0|  1.0|     1.0|     1.0|\n",
      "|  1725.5523| 18| 33.77|       1|  0.0|     0.0|     0.0|\n",
      "|   4449.462| 28|  33.0|       3|  0.0|     0.0|     0.0|\n",
      "|21984.47061| 33|22.705|       0|  0.0|     0.0|     2.0|\n",
      "|  3866.8552| 32| 28.88|       0|  0.0|     0.0|     2.0|\n",
      "|  3756.6216| 31| 25.74|       0|  1.0|     0.0|     0.0|\n",
      "|  8240.5896| 46| 33.44|       1|  1.0|     0.0|     0.0|\n",
      "|  7281.5056| 37| 27.74|       3|  1.0|     0.0|     2.0|\n",
      "|  6406.4107| 37| 29.83|       2|  0.0|     0.0|     3.0|\n",
      "|28923.13692| 60| 25.84|       0|  1.0|     0.0|     2.0|\n",
      "|  2721.3208| 25| 26.22|       0|  0.0|     0.0|     3.0|\n",
      "| 27808.7251| 62| 26.29|       0|  1.0|     1.0|     0.0|\n",
      "|   1826.843| 23|  34.4|       0|  0.0|     0.0|     1.0|\n",
      "| 11090.7178| 56| 39.82|       0|  1.0|     0.0|     0.0|\n",
      "| 39611.7577| 27| 42.13|       0|  0.0|     1.0|     0.0|\n",
      "|   1837.237| 19|  24.6|       1|  0.0|     0.0|     1.0|\n",
      "| 10797.3362| 52| 30.78|       1|  1.0|     0.0|     3.0|\n",
      "| 2395.17155| 23|23.845|       0|  0.0|     0.0|     3.0|\n",
      "|  10602.385| 56|  40.3|       0|  0.0|     0.0|     1.0|\n",
      "|  36837.467| 30|  35.3|       0|  0.0|     1.0|     1.0|\n",
      "+-----------+---+------+--------+-----+--------+--------+\n",
      "only showing top 20 rows\n",
      "\n"
     ]
    }
   ],
   "source": [
    "#creating new dataframe with required columns\n",
    "\n",
    "df_r = df.select('charges','age','bmi','children','sex_n','smoker_n','region_n')\n",
    "df_r.show()"
   ]
  },
  {
   "cell_type": "code",
   "execution_count": 5,
   "metadata": {
    "application/vnd.databricks.v1+cell": {
     "cellMetadata": {
      "byteLimit": 2048000,
      "rowLimit": 10000
     },
     "inputWidgets": {},
     "nuid": "a0629385-89fc-4ed8-9637-5fd7545c993f",
     "showTitle": false,
     "title": ""
    }
   },
   "outputs": [],
   "source": [
    "# handle missing values using mean\n",
    "# other methods can also be used such as fillna()\n",
    "\n",
    "from pyspark.ml.feature import Imputer\n",
    "\n",
    "imputer = Imputer(strategy='mean', inputCols=df_r.columns, outputCols=df_r.columns)\n",
    "model = imputer.fit(df_r)\n",
    "df_r = model.transform(df_r)"
   ]
  },
  {
   "cell_type": "code",
   "execution_count": 6,
   "metadata": {
    "application/vnd.databricks.v1+cell": {
     "cellMetadata": {
      "byteLimit": 2048000,
      "rowLimit": 10000
     },
     "inputWidgets": {},
     "nuid": "2a2250ae-11b7-4512-8f59-b415d27812b9",
     "showTitle": false,
     "title": ""
    }
   },
   "outputs": [
    {
     "name": "stdout",
     "output_type": "stream",
     "text": [
      "+--------------------+\n",
      "|Independent Features|\n",
      "+--------------------+\n",
      "|[19.0,27.9,0.0,1....|\n",
      "|[18.0,33.77,1.0,0...|\n",
      "|[28.0,33.0,3.0,0....|\n",
      "|[33.0,22.705,0.0,...|\n",
      "|[32.0,28.88,0.0,0...|\n",
      "|[31.0,25.74,0.0,1...|\n",
      "|[46.0,33.44,1.0,1...|\n",
      "|[37.0,27.74,3.0,1...|\n",
      "|[37.0,29.83,2.0,0...|\n",
      "|[60.0,25.84,0.0,1...|\n",
      "|[25.0,26.22,0.0,0...|\n",
      "|[62.0,26.29,0.0,1...|\n",
      "|[23.0,34.4,0.0,0....|\n",
      "|[56.0,39.82,0.0,1...|\n",
      "|[27.0,42.13,0.0,0...|\n",
      "|[19.0,24.6,1.0,0....|\n",
      "|[52.0,30.78,1.0,1...|\n",
      "|[23.0,23.845,0.0,...|\n",
      "|[56.0,40.3,0.0,0....|\n",
      "|[30.0,35.3,0.0,0....|\n",
      "+--------------------+\n",
      "only showing top 20 rows\n",
      "\n"
     ]
    }
   ],
   "source": [
    "# Grouping independent variables\n",
    "\n",
    "from pyspark.ml.feature import VectorAssembler\n",
    "features = VectorAssembler(inputCols=['age','bmi','children','sex_n','smoker_n','region_n'],outputCol='Independent Features')\n",
    "features = features.transform(df_r)\n",
    "features.select('Independent Features').show()"
   ]
  },
  {
   "cell_type": "code",
   "execution_count": 7,
   "metadata": {
    "application/vnd.databricks.v1+cell": {
     "cellMetadata": {
      "byteLimit": 2048000,
      "rowLimit": 10000
     },
     "inputWidgets": {},
     "nuid": "d04ef309-896d-478c-981c-3b5f170f367b",
     "showTitle": false,
     "title": ""
    }
   },
   "outputs": [
    {
     "name": "stdout",
     "output_type": "stream",
     "text": [
      "+--------------------+-----------+\n",
      "|Independent Features|    charges|\n",
      "+--------------------+-----------+\n",
      "|[19.0,27.9,0.0,1....|  16884.924|\n",
      "|[18.0,33.77,1.0,0...|  1725.5523|\n",
      "|[28.0,33.0,3.0,0....|   4449.462|\n",
      "|[33.0,22.705,0.0,...|21984.47061|\n",
      "|[32.0,28.88,0.0,0...|  3866.8552|\n",
      "|[31.0,25.74,0.0,1...|  3756.6216|\n",
      "|[46.0,33.44,1.0,1...|  8240.5896|\n",
      "|[37.0,27.74,3.0,1...|  7281.5056|\n",
      "|[37.0,29.83,2.0,0...|  6406.4107|\n",
      "|[60.0,25.84,0.0,1...|28923.13692|\n",
      "|[25.0,26.22,0.0,0...|  2721.3208|\n",
      "|[62.0,26.29,0.0,1...| 27808.7251|\n",
      "|[23.0,34.4,0.0,0....|   1826.843|\n",
      "|[56.0,39.82,0.0,1...| 11090.7178|\n",
      "|[27.0,42.13,0.0,0...| 39611.7577|\n",
      "|[19.0,24.6,1.0,0....|   1837.237|\n",
      "|[52.0,30.78,1.0,1...| 10797.3362|\n",
      "|[23.0,23.845,0.0,...| 2395.17155|\n",
      "|[56.0,40.3,0.0,0....|  10602.385|\n",
      "|[30.0,35.3,0.0,0....|  36837.467|\n",
      "+--------------------+-----------+\n",
      "only showing top 20 rows\n",
      "\n"
     ]
    }
   ],
   "source": [
    "final_data=features.select('Independent Features','charges')\n",
    "final_data.show()"
   ]
  },
  {
   "cell_type": "code",
   "execution_count": 8,
   "metadata": {
    "application/vnd.databricks.v1+cell": {
     "cellMetadata": {
      "byteLimit": 2048000,
      "rowLimit": 10000
     },
     "inputWidgets": {},
     "nuid": "fc84bd91-75b9-4745-b0a6-03a6fa95ab51",
     "showTitle": false,
     "title": ""
    }
   },
   "outputs": [],
   "source": [
    "# using different regression to predict the charges\n",
    "\n",
    "from pyspark.ml.regression import LinearRegression\n",
    "from pyspark.ml.regression import DecisionTreeRegressor\n",
    "from pyspark.ml.regression import RandomForestRegressor\n",
    "from pyspark.ml.regression import GBTRegressor\n",
    "\n",
    "train_data1,test_data1 = final_data.randomSplit([0.7,0.3])\n",
    "reg1 = LinearRegression(featuresCol='Independent Features',labelCol='charges')\n",
    "reg1 = reg1.fit(train_data1)\n",
    "\n",
    "train_data2,test_data2 = final_data.randomSplit([0.8,0.2])\n",
    "reg2 = DecisionTreeRegressor(featuresCol='Independent Features',labelCol='charges')\n",
    "reg2 = reg2.fit(train_data2)\n",
    "\n",
    "train_data3,test_data3 = final_data.randomSplit([0.75,0.25])\n",
    "reg3 = RandomForestRegressor(featuresCol='Independent Features',labelCol='charges')\n",
    "reg3 = reg3.fit(train_data3)\n",
    "\n",
    "train_data4,test_data4 = final_data.randomSplit([0.7,0.3])\n",
    "reg4 = GBTRegressor(featuresCol='Independent Features',labelCol='charges')\n",
    "reg4 = reg4.fit(train_data4)"
   ]
  },
  {
   "cell_type": "code",
   "execution_count": 9,
   "metadata": {
    "application/vnd.databricks.v1+cell": {
     "cellMetadata": {
      "byteLimit": 2048000,
      "rowLimit": 10000
     },
     "inputWidgets": {},
     "nuid": "79b64def-f3f7-4730-a60f-3abeeb01088b",
     "showTitle": false,
     "title": ""
    }
   },
   "outputs": [],
   "source": [
    "prediction1= reg1.transform(test_data1)\n",
    "prediction2= reg2.transform(test_data2)\n",
    "prediction3= reg3.transform(test_data3)\n",
    "prediction4= reg4.transform(test_data4)"
   ]
  },
  {
   "cell_type": "code",
   "execution_count": 10,
   "metadata": {
    "application/vnd.databricks.v1+cell": {
     "cellMetadata": {
      "byteLimit": 2048000,
      "rowLimit": 10000
     },
     "inputWidgets": {},
     "nuid": "f470be0c-9c67-4086-805e-aa5a31a991e8",
     "showTitle": false,
     "title": ""
    }
   },
   "outputs": [
    {
     "name": "stdout",
     "output_type": "stream",
     "text": [
      "+--------------------+-----------+-------------------+\n",
      "|Independent Features|    charges|         prediction|\n",
      "+--------------------+-----------+-------------------+\n",
      "|(6,[0,1],[18.0,23...|  1121.8739|-330.02259335166855|\n",
      "|(6,[0,1],[18.0,30...|  1131.5066| 1831.9407667152955|\n",
      "|(6,[0,1],[18.0,33...|  1135.9407| 2827.1302499207213|\n",
      "|(6,[0,1],[18.0,33...|  1135.9407| 2827.1302499207213|\n",
      "|(6,[0,1],[18.0,33...|  1135.9407| 2827.1302499207213|\n",
      "|(6,[0,1],[18.0,34...|   1137.011|  3067.348401039275|\n",
      "|(6,[0,1],[18.0,37...|  1141.4451| 4062.5378842447008|\n",
      "|(6,[0,1],[18.0,43...|  1149.3959|  5847.015578268229|\n",
      "|(6,[0,1],[21.0,31...|16586.49771| 2869.2599085564234|\n",
      "|(6,[0,1],[21.0,35...|  1532.4697|   4276.25193653651|\n",
      "|(6,[0,1],[23.0,26...|  1815.8759|  1970.790621903905|\n",
      "|(6,[0,1],[23.0,41...|  1837.2819|  6775.153644274937|\n",
      "|(6,[0,1],[24.0,32...|  1981.5819|  3940.895929128774|\n",
      "|(6,[0,1],[24.0,35...|  1986.9334|  5141.986684721529|\n",
      "|(6,[0,1],[25.0,25...|  2137.6536|  2239.095212112923|\n",
      "|(6,[0,1],[25.0,25...|  2137.6536|  2239.095212112923|\n",
      "|(6,[0,1],[26.0,35...|  2322.6218|  5513.241911124214|\n",
      "|(6,[0,1],[26.0,35...|  2322.6218|  5513.241911124214|\n",
      "|(6,[0,1],[27.0,23...|   2483.736| 1924.0128638911738|\n",
      "|(6,[0,1],[28.0,38...|  2689.4954|  6845.369742001103|\n",
      "+--------------------+-----------+-------------------+\n",
      "only showing top 20 rows\n",
      "\n"
     ]
    }
   ],
   "source": [
    "prediction1.show()"
   ]
  },
  {
   "cell_type": "code",
   "execution_count": 11,
   "metadata": {
    "application/vnd.databricks.v1+cell": {
     "cellMetadata": {
      "byteLimit": 2048000,
      "rowLimit": 10000
     },
     "inputWidgets": {},
     "nuid": "f22fdaf9-a1d3-405d-a9c2-5607751b4c6b",
     "showTitle": false,
     "title": ""
    }
   },
   "outputs": [
    {
     "name": "stdout",
     "output_type": "stream",
     "text": [
      "+--------------------+-----------+------------------+\n",
      "|Independent Features|    charges|        prediction|\n",
      "+--------------------+-----------+------------------+\n",
      "|(6,[0,1],[18.0,23...|  1121.8739|2244.0867916878287|\n",
      "|(6,[0,1],[18.0,33...|  1135.9407|2244.0867916878287|\n",
      "|(6,[0,1],[18.0,33...|  1136.3994|2244.0867916878287|\n",
      "|(6,[0,1],[18.0,34...|   1137.011|2244.0867916878287|\n",
      "|(6,[0,1],[21.0,23...|  1515.3449|2244.0867916878287|\n",
      "|(6,[0,1],[21.0,31...|16586.49771|2244.0867916878287|\n",
      "|(6,[0,1],[21.0,35...|  1532.4697|2244.0867916878287|\n",
      "|(6,[0,1],[23.0,26...|  1815.8759| 4159.283093898305|\n",
      "|(6,[0,1],[23.0,32...|  1824.2854| 4159.283093898305|\n",
      "|(6,[0,1],[23.0,41...|  1837.2819| 4159.283093898305|\n",
      "|(6,[0,1],[26.0,35...|  2322.6218| 4159.283093898305|\n",
      "|(6,[0,1],[27.0,23...|   2483.736| 4159.283093898305|\n",
      "|(6,[0,1],[27.0,32...|  2497.0383| 4159.283093898305|\n",
      "|(6,[0,1],[27.0,33...|  2498.4144| 4159.283093898305|\n",
      "|(6,[0,1],[27.0,33...|  2498.4144| 4159.283093898305|\n",
      "|(6,[0,1],[29.0,27...|  2867.1196| 4159.283093898305|\n",
      "|(6,[0,1],[34.0,34...|  3935.1799| 6311.731120886075|\n",
      "|(6,[0,1],[36.0,29...|   4399.731| 6311.731120886075|\n",
      "|(6,[0,1],[37.0,36...|19214.70553| 6311.731120886075|\n",
      "|(6,[0,1],[40.0,41...|  5438.7491| 6311.731120886075|\n",
      "+--------------------+-----------+------------------+\n",
      "only showing top 20 rows\n",
      "\n"
     ]
    }
   ],
   "source": [
    "prediction2.show()"
   ]
  },
  {
   "cell_type": "code",
   "execution_count": 12,
   "metadata": {
    "application/vnd.databricks.v1+cell": {
     "cellMetadata": {
      "byteLimit": 2048000,
      "rowLimit": 10000
     },
     "inputWidgets": {},
     "nuid": "5fa73e29-9c8c-457f-ada0-c27b278e872c",
     "showTitle": false,
     "title": ""
    }
   },
   "outputs": [
    {
     "name": "stdout",
     "output_type": "stream",
     "text": [
      "+--------------------+---------+------------------+\n",
      "|Independent Features|  charges|        prediction|\n",
      "+--------------------+---------+------------------+\n",
      "|(6,[0,1],[18.0,23...|1121.8739|4194.5605486038985|\n",
      "|(6,[0,1],[18.0,33...|1136.3994| 4275.955495224611|\n",
      "|(6,[0,1],[18.0,34...| 1137.011| 4275.955495224611|\n",
      "|(6,[0,1],[18.0,53...|1163.4627| 4046.029042507579|\n",
      "|(6,[0,1],[21.0,23...|1515.3449|4194.5605486038985|\n",
      "|(6,[0,1],[21.0,35...|1532.4697|  4405.32764687757|\n",
      "|(6,[0,1],[22.0,33...|1674.6323| 4789.059006211372|\n",
      "|(6,[0,1],[23.0,26...|1815.8759| 5454.963199831549|\n",
      "|(6,[0,1],[23.0,41...|1837.2819|4678.9854130993945|\n",
      "|(6,[0,1],[24.0,32...|1981.5819|  5306.79277452311|\n",
      "|(6,[0,1],[24.0,35...|1986.9334| 5204.409513170433|\n",
      "|(6,[0,1],[24.0,35...|1986.9334| 5204.409513170433|\n",
      "|(6,[0,1],[27.0,32...|2497.0383| 5963.233564952707|\n",
      "|(6,[0,1],[28.0,38...|2689.4954| 5655.646929697834|\n",
      "|(6,[0,1],[29.0,27...|2867.1196| 6293.394055818048|\n",
      "|(6,[0,1],[29.0,27...|2867.1196| 6293.394055818048|\n",
      "|(6,[0,1],[33.0,30...|3704.3545| 6152.085505139776|\n",
      "|(6,[0,1],[36.0,29...| 4399.731|6447.2018899495315|\n",
      "|(6,[0,1],[36.0,29...| 4399.731|6447.2018899495315|\n",
      "|(6,[0,1],[50.0,25...| 8442.667|12184.872955253606|\n",
      "+--------------------+---------+------------------+\n",
      "only showing top 20 rows\n",
      "\n"
     ]
    }
   ],
   "source": [
    "prediction3.show()"
   ]
  },
  {
   "cell_type": "code",
   "execution_count": 13,
   "metadata": {
    "application/vnd.databricks.v1+cell": {
     "cellMetadata": {
      "byteLimit": 2048000,
      "rowLimit": 10000
     },
     "inputWidgets": {},
     "nuid": "47971d7b-7a93-4f94-a9d2-037928f2c682",
     "showTitle": false,
     "title": ""
    }
   },
   "outputs": [
    {
     "name": "stdout",
     "output_type": "stream",
     "text": [
      "+--------------------+-----------+------------------+\n",
      "|Independent Features|    charges|        prediction|\n",
      "+--------------------+-----------+------------------+\n",
      "|(6,[0,1],[18.0,23...|  1121.8739| 3591.357079092081|\n",
      "|(6,[0,1],[18.0,23...|  1121.8739| 3591.357079092081|\n",
      "|(6,[0,1],[18.0,30...|  1131.5066| 2954.810251888125|\n",
      "|(6,[0,1],[18.0,33...|  1135.9407| 2627.391181942676|\n",
      "|(6,[0,1],[18.0,33...|  1136.3994|2800.3069443445006|\n",
      "|(6,[0,1],[18.0,33...|  1136.3994|2800.3069443445006|\n",
      "|(6,[0,1],[18.0,37...|  1141.4451|1846.1374119077925|\n",
      "|(6,[0,1],[18.0,43...|  1149.3959| 1140.298539008653|\n",
      "|(6,[0,1],[18.0,53...|  1163.4627| 1140.298539008653|\n",
      "|(6,[0,1],[21.0,31...|16586.49771|2788.6360426399474|\n",
      "|(6,[0,1],[21.0,35...|  1532.4697|1993.5980935096966|\n",
      "|(6,[0,1],[21.0,36...|  1534.3045|1993.5980935096966|\n",
      "|(6,[0,1],[22.0,33...|  1674.6323|2831.4629705226153|\n",
      "|(6,[0,1],[25.0,25...|  2137.6536| 4276.751995631693|\n",
      "|(6,[0,1],[26.0,35...|  2322.6218|3279.2997092839614|\n",
      "|(6,[0,1],[27.0,23...|   2483.736| 4655.603806957524|\n",
      "|(6,[0,1],[33.0,30...|  3704.3545| 5297.862418868514|\n",
      "|(6,[0,1],[40.0,41...|  5438.7491|  6150.91747126871|\n",
      "|(6,[0,1],[48.0,29...|   7789.635|10280.294283630805|\n",
      "|(6,[0,1],[49.0,36...|  8125.7845| 9060.091750695754|\n",
      "+--------------------+-----------+------------------+\n",
      "only showing top 20 rows\n",
      "\n"
     ]
    }
   ],
   "source": [
    "prediction4.show()"
   ]
  },
  {
   "cell_type": "code",
   "execution_count": 14,
   "metadata": {
    "application/vnd.databricks.v1+cell": {
     "cellMetadata": {
      "byteLimit": 2048000,
      "rowLimit": 10000
     },
     "inputWidgets": {},
     "nuid": "8fc4a5f7-7040-4b9b-bf49-28e84c1069a8",
     "showTitle": false,
     "title": ""
    }
   },
   "outputs": [
    {
     "name": "stdout",
     "output_type": "stream",
     "text": [
      "LinearRegression:\n",
      "R2: 0.7557687132844965\n",
      "MAE: 4080.5628564864965\n",
      "MSE: 35040412.91237266\n",
      "\n",
      "DecisionTreeRegressor:\n",
      "R2: 0.8507958391320941\n",
      "MAE: 2612.1047420373457\n",
      "MSE: 20981606.673856802\n",
      "\n",
      "RandomForestRegressor:\n",
      "R2: 0.8455019380189843\n",
      "MAE: 3037.7464596595105\n",
      "MSE: 21892610.213931773\n",
      "\n",
      "GBTRegressor:\n",
      "R2: 0.9119648604977716\n",
      "MAE: 2146.4694067961077\n",
      "MSE: 13717099.060869226\n",
      "\n"
     ]
    }
   ],
   "source": [
    "#calcuating the performance metrics\n",
    "\n",
    "from pyspark.ml.evaluation import RegressionEvaluator\n",
    "\n",
    "evaluator = RegressionEvaluator(labelCol=\"charges\", predictionCol=\"prediction\")\n",
    "\n",
    "lr_r2 = evaluator.evaluate(prediction1, {evaluator.metricName: \"r2\"})\n",
    "lr_mae = evaluator.evaluate(prediction1, {evaluator.metricName: \"mae\"})\n",
    "lr_mse = evaluator.evaluate(prediction1, {evaluator.metricName: \"mse\"})\n",
    "\n",
    "dt_r2 = evaluator.evaluate(prediction2, {evaluator.metricName: \"r2\"})\n",
    "dt_mae = evaluator.evaluate(prediction2, {evaluator.metricName: \"mae\"})\n",
    "dt_mse = evaluator.evaluate(prediction2, {evaluator.metricName: \"mse\"})\n",
    "\n",
    "rf_r2 = evaluator.evaluate(prediction3, {evaluator.metricName: \"r2\"})\n",
    "rf_mae = evaluator.evaluate(prediction3, {evaluator.metricName: \"mae\"})\n",
    "rf_mse = evaluator.evaluate(prediction3, {evaluator.metricName: \"mse\"})\n",
    "\n",
    "gbt_r2 = evaluator.evaluate(prediction4, {evaluator.metricName: \"r2\"})\n",
    "gbt_mae = evaluator.evaluate(prediction4, {evaluator.metricName: \"mae\"})\n",
    "gbt_mse = evaluator.evaluate(prediction4, {evaluator.metricName: \"mse\"})\n",
    "\n",
    "print(\"LinearRegression:\")\n",
    "print(\"R2:\", lr_r2)\n",
    "print(\"MAE:\", lr_mae)\n",
    "print(\"MSE:\", lr_mse)\n",
    "print()\n",
    "\n",
    "print(\"DecisionTreeRegressor:\")\n",
    "print(\"R2:\", dt_r2)\n",
    "print(\"MAE:\", dt_mae)\n",
    "print(\"MSE:\", dt_mse)\n",
    "print()\n",
    "\n",
    "print(\"RandomForestRegressor:\")\n",
    "print(\"R2:\", rf_r2)\n",
    "print(\"MAE:\", rf_mae)\n",
    "print(\"MSE:\", rf_mse)\n",
    "print()\n",
    "\n",
    "print(\"GBTRegressor:\")\n",
    "print(\"R2:\", gbt_r2)\n",
    "print(\"MAE:\", gbt_mae)\n",
    "print(\"MSE:\", gbt_mse)\n",
    "print()"
   ]
  }
 ],
 "metadata": {
  "application/vnd.databricks.v1+notebook": {
   "dashboards": [],
   "language": "python",
   "notebookMetadata": {
    "pythonIndentUnit": 4
   },
   "notebookName": "MedicalChargesPrediction",
   "widgets": {}
  },
  "kernelspec": {
   "display_name": "Python 3 (ipykernel)",
   "language": "python",
   "name": "python3"
  },
  "language_info": {
   "codemirror_mode": {
    "name": "ipython",
    "version": 3
   },
   "file_extension": ".py",
   "mimetype": "text/x-python",
   "name": "python",
   "nbconvert_exporter": "python",
   "pygments_lexer": "ipython3",
   "version": "3.9.16"
  }
 },
 "nbformat": 4,
 "nbformat_minor": 1
}
